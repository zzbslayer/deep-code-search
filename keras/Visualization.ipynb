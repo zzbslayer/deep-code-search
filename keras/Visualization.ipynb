{
 "cells": [
  {
   "cell_type": "code",
   "execution_count": 51,
   "metadata": {},
   "outputs": [],
   "source": [
    "from parsePython import *\n",
    "from code2vec import *\n",
    "from UseData import *\n",
    "import numpy as np"
   ]
  },
  {
   "cell_type": "code",
   "execution_count": 73,
   "metadata": {},
   "outputs": [],
   "source": [
    "def move(l1, l2):\n",
    "    result = []\n",
    "    flag = False\n",
    "    for i in l2:\n",
    "        for j in l1:\n",
    "            if i==j:\n",
    "                result.append(j)\n",
    "                flag = True\n",
    "                break\n",
    "        if (flag == False):\n",
    "            result.append(0)\n",
    "        else:\n",
    "            flag = False\n",
    "    for k in l1:\n",
    "        if k not in result:\n",
    "            result.append(k)\n",
    "    return result\n",
    "\n",
    "def pad(x, size):\n",
    "    if size <= len(x):\n",
    "        return x[:size]\n",
    "    out = [0]*size\n",
    "    out[:len(x)] = x\n",
    "    return out\n",
    "    \n",
    "def get_vec(java_data, py_data):\n",
    "    _c2v = Code2Vec()\n",
    "    _ud = UseData()\n",
    "    _m, _a, _t = _ud.load_use_data()\n",
    "    Xs = []\n",
    "    Xt = []\n",
    "    for i in java_data:\n",
    "        py_token = cv.getToken(py_data[i])\n",
    "        py_api = cv.getAPISequence(py_data[i])\n",
    "        py_meth = cv.getMethodName(py_data[i])\n",
    "        py_token_vec = _c2v.convert_tokens(py_token)\n",
    "        py_apiseq_vec = _c2v.convert_apiseq(py_api)\n",
    "        py_meth_vec= _c2v.convert_methname(py_meth)\n",
    "        \n",
    "        java_token_vec = _t[i-1]\n",
    "        java_apiseq_vec = _a[i-1]\n",
    "        java_meth_vec = _m[i-1]\n",
    "        \n",
    "        py_token_vec = move(py_token_vec, java_token_vec)\n",
    "        py_apiseq_vec = move(py_apiseq_vec, java_apiseq_vec)\n",
    "        py_meth_vec = move(py_meth_vec, java_meth_vec)\n",
    "        \n",
    "        padded_java_token_vec = pad(java_token_vec, 50)\n",
    "        padded_java_apiseq_vec = pad(java_apiseq_vec, 30)\n",
    "        padded_java_meth_vec = pad(java_meth_vec, 6)\n",
    "        \n",
    "        padded_py_token_vec = pad(py_token_vec, 50)\n",
    "        padded_py_apiseq_vec = pad(py_apiseq_vec, 30)\n",
    "        padded_py_meth_vec = pad(py_meth_vec, 6)\n",
    "        \n",
    "        temp = np.concatenate((padded_java_meth_vec, padded_java_apiseq_vec, padded_java_token_vec), axis=0)\n",
    "        Xs.append(temp)\n",
    "        temp = np.concatenate((padded_py_meth_vec, padded_py_apiseq_vec, padded_py_token_vec), axis=0)\n",
    "        Xt.append(temp)\n",
    "    return Xs, Xt"
   ]
  },
  {
   "cell_type": "code",
   "execution_count": 60,
   "metadata": {},
   "outputs": [],
   "source": [
    "cv = CodeVisitor()\n",
    "c2v = Code2Vec()\n",
    "ud = UseData()\n",
    "m, a, t = ud.load_use_data()"
   ]
  },
  {
   "cell_type": "code",
   "execution_count": 71,
   "metadata": {},
   "outputs": [],
   "source": [
    "java_data = {17:\"public static String getNextTag ( String xmlData , int position ) { String nextTag = null ; if ( xmlData != null && ! xmlData . isEmpty ( ) && position < xmlData . length ( ) && xmlData . substring ( position ) . contains ( \"<\" ) ) { while ( xmlData . charAt ( position ) != '<' ) { position ++ ; } int startIndex = position ; if ( xmlData . substring ( position ) . contains ( \">\" ) ) { while ( xmlData . charAt ( position ) != '>' ) { position ++ ; } nextTag = xmlData . substring ( startIndex , position + 1 ) ; } } return nextTag ; } \",\n",
    "7:\"public float bottom ( float margin ) { return pageSize . bottom ( marginBottom + margin ) ; } \",\n",
    "12:\"public RGBColor toGreyScale ( ) { return new RGBColor ( 0.30 * getRed ( ) + 0.59 * getGreen ( ) + 0.11 * getBlue ( ) ) ; } \",\n",
    "21:\"public void addClientSocketListener ( ClientSocketListener listener ) { if ( listener == null ) throw new NullPointerException ( ) ; listeners . add ( listener ) ; }\",\n",
    "23:\"final void addProcessToGcListLocked ( ProcessRecord proc ) { boolean added = false ; for ( int i = mProcessesToGc . size ( ) - 1 ; i >= 0 ; i -- ) { if ( mProcessesToGc . get ( i ) . lastRequestedGc < proc . lastRequestedGc ) { added = true ; mProcessesToGc . add ( i + 1 , proc ) ; break ; } } if ( ! added ) { mProcessesToGc . add ( 0 , proc ) ; } } \",\n",
    "34:\"public boolean isFocused ( ) { if ( m_Control == null ) return false ; return m_Control . isFocusControl ( ) ; } \",\n",
    "36:\"public static long getFreeDiskSpace ( boolean checkInternal ) { String status = Environment . getExternalStorageState ( ) ; long freeSpace = 0 ; if ( status . equals ( Environment . MEDIA_MOUNTED ) ) { freeSpace = freeSpaceCalculation ( Environment . getExternalStorageDirectory ( ) . getPath ( ) ) ; } else if ( checkInternal ) { freeSpace = freeSpaceCalculation ( \\\"/\\\" ) ; } else { return - 1 ; } return freeSpace ; }\",\n",
    "38:\"public void removePropertyChangeListener ( String name , PropertyChangeListener pcl ) { m_bcSupport . removePropertyChangeListener ( name , pcl ) ; } \",\n",
    "40:\"public void incDfsUsed ( long value ) { used . addAndGet ( value ) ; } \",\n",
    "49:\"public void removeElements ( List elements ) { if ( elements . size ( ) > 0 ) { fElements . removeAll ( elements ) ; if ( fTable != null ) { fTable . remove ( elements . toArray ( ) ) ; } dialogFieldChanged ( ) ; } } \"\n",
    "            }\n",
    "\n",
    "py_data = {17:\"def getNextTag(xmlData, position):\\n\\tnextTag = None\\n\\tif xmlData!=None and xmlData!='' and position < len(xmlData) and '<' in xmlData[position:]:\\n\\t\\twhile xmlData[position]!='<':\\n\\t\\t\\tposition+=1\\n\\t\\tstartIndex = position\\n\\t\\tif '>' in xmlData[position:]:\\n\\t\\t\\twhile xmlData[position] !='>':\\n\\t\\t\\t\\tposition+=1\\n\\t\\t\\tnextTag = xmlData[startIndex:position+1]\\n\\treturn nextTag\",\n",
    "7:\"def bottom(margin):\\n\\treturn pageSize.bottom(marginBottom+margin)\",\n",
    "12:\"def toGreyScale():\\n\\treturn RGBColor(0.30*getRed() + 0.59*getGreen() + 0.11*getBlue())\",\n",
    "21:\"def addClientSocketListenser(listener):\\n\\tif listener == None:\\n\\t\\traise NullPointerException()\\n\\tlisteners.add(listener)\",\n",
    "23:\"def addProcessToGcListLocked(proc):\\n\\tadded = False\\n\\tfor i in range(mProcessesToGc.size()-1, 0, -1):\\n\\t\\tif mProcessesToGc.get(i).lastRequestedGc < proc.lastRequestedGc:\\n\\t\\t\\tadded = True\\n\\t\\t\\tmProcessesToGc.add(i+1, proc)\\n\\t\\t\\tbreak\\n\\tif not added:\\n\\t\\tmProcessesToGc.add(0, proc)\",\n",
    "34:\"def isFocused():\\n\\tif m_Control==None:\\n\\t\\treturn False\\n\\treturn m_Control.isFocusControl()\",\n",
    "36:\"def getFreeDiskSpace(checkInternal):\\n\\tstatus=Environment.getExternalStorageState()\\n\\tfreeSpace = 0\\n\\tif status.equals(Environment.MEDIA_MOUNTED):\\n\\t\\tfreeSpace = freeSpaceCalculation(Environment.getExternalStorageDirectory().getPath())\\n\\telif checkInternal:\\n\\t\\tfreeSpace = freeSpaceCalculation(\\\"/\\\")\\n\\telse:\\n\\t\\treturn -1\\n\\treturn freeSpace\",\n",
    "38:\"def removePropertyChangeListener(name, pcl):\\n\\tm_bcSupport.removePropertyChangeListener(name, pcl)\",\n",
    "40:\"def incDfsUsed(value):\\n\\tused.addAndGet(value)\",\n",
    "49:\"def removeElements(elements):\\n\\tif len(elements)>0:\\n\\t\\tfElements.removeAll(elements)\\n\\t\\tif fTable!=None:\\n\\t\\t\\tfTable.remove(elements.toArray())\\n\\t\\tdialogFieldChange()\"\n",
    "         }"
   ]
  },
  {
   "cell_type": "code",
   "execution_count": 62,
   "metadata": {},
   "outputs": [],
   "source": [
    "i=17\n",
    "token = cv.getToken(py_data[i])\n",
    "api = cv.getAPISequence(py_data[i])\n",
    "meth = cv.getMethodName(py_data[i])"
   ]
  },
  {
   "cell_type": "code",
   "execution_count": 63,
   "metadata": {
    "scrolled": true
   },
   "outputs": [
    {
     "name": "stdout",
     "output_type": "stream",
     "text": [
      "['len', 'next', 'tag', 'position', 'start', 'index', 'xml', 'data']\n",
      "['xmlData']\n",
      "['getNextTag']\n"
     ]
    }
   ],
   "source": [
    "print(token)\n",
    "print(api)\n",
    "print(meth)"
   ]
  },
  {
   "cell_type": "code",
   "execution_count": 64,
   "metadata": {},
   "outputs": [
    {
     "name": "stdout",
     "output_type": "stream",
     "text": [
      "[150, 21, 130, 175, 46, 19, 84, 42]\n",
      "[0]\n",
      "[0]\n"
     ]
    }
   ],
   "source": [
    "py_token_vec = c2v.convert_tokens(token)\n",
    "py_apiseq_vec = c2v.convert_apiseq(api)\n",
    "py_meth_vec= c2v.convert_methname(meth)\n",
    "print(py_token_vec)\n",
    "print(py_apiseq_vec)\n",
    "print(py_meth_vec)"
   ]
  },
  {
   "cell_type": "code",
   "execution_count": 65,
   "metadata": {},
   "outputs": [
    {
     "name": "stdout",
     "output_type": "stream",
     "text": [
      "[ 21.  71.  55.  42.  84.  10.  46.  19. 130. 175.  56.  79.]\n",
      "[ 3. 80.  3. 23.  3. 33.  3. 55.  3. 33.  3. 55.  3. 33.]\n",
      "[  2.  25. 168.]\n"
     ]
    }
   ],
   "source": [
    "java_token_vec = t[i-1]\n",
    "java_apiseq_vec = a[i-1]\n",
    "java_meth_vec = m[i-1]\n",
    "print(java_token_vec)\n",
    "print(java_apiseq_vec)\n",
    "print(java_meth_vec)"
   ]
  },
  {
   "cell_type": "code",
   "execution_count": 66,
   "metadata": {},
   "outputs": [
    {
     "name": "stdout",
     "output_type": "stream",
     "text": [
      "[21, 0, 0, 42, 84, 0, 46, 19, 130, 175, 0, 0, 150]\n",
      "[0, 0, 0, 0, 0, 0, 0, 0, 0, 0, 0, 0, 0, 0]\n",
      "[0, 0, 0]\n"
     ]
    }
   ],
   "source": [
    "py_token_vec = move(py_token_vec, java_token_vec)\n",
    "py_apiseq_vec = move(py_apiseq_vec, java_apiseq_vec)\n",
    "py_meth_vec = move(py_meth_vec, java_meth_vec)\n",
    "print(py_token_vec)\n",
    "print(py_apiseq_vec)\n",
    "print(py_meth_vec)"
   ]
  },
  {
   "cell_type": "code",
   "execution_count": 81,
   "metadata": {},
   "outputs": [],
   "source": [
    "Xs, Xt = get_vec(java_data, py_data)\n",
    "labels = []\n",
    "for i in range(len(Xs)):\n",
    "    labels.append(i)\n",
    "for i in range(len(Xs)):\n",
    "    labels.append(i)\n",
    "data = np.concatenate((Xs, Xt))"
   ]
  },
  {
   "cell_type": "code",
   "execution_count": 48,
   "metadata": {},
   "outputs": [
    {
     "name": "stdout",
     "output_type": "stream",
     "text": [
      "Module(body=[<_ast.FunctionDef object at 0x00000196C686FD30>])\n",
      "  FunctionDef(name='removeElements', args=arguments(args=[<_ast.arg object at 0x00000196C686FC50>], vararg=None, kwonlyargs=[], kw_defaults=[], kwarg=None, defaults=[]), body=[<_ast.If object at 0x00000196C686F908>], decorator_list=[], returns=None)\n",
      "    arguments(args=[<_ast.arg object at 0x00000196C686FC50>], vararg=None, kwonlyargs=[], kw_defaults=[], kwarg=None, defaults=[])\n",
      "      arg(arg='elements', annotation=None)\n",
      "    If(test=Compare(ops=[<_ast.Gt object at 0x00000196C28F4B00>], comparators=[<_ast.Num object at 0x00000196C686FC18>]), body=[<_ast.Expr object at 0x00000196C686F550>, <_ast.If object at 0x00000196C686F940>, <_ast.Expr object at 0x00000196CCC2B1D0>], orelse=[])\n",
      "      Compare(ops=[<_ast.Gt object at 0x00000196C28F4B00>], comparators=[<_ast.Num object at 0x00000196C686FC18>])\n",
      "        Call(func=Name(id='len', ctx=Load()), args=[<_ast.Name object at 0x00000196C686F710>], keywords=[])\n",
      "          Name(id='len', ctx=Load())\n",
      "            Load()\n",
      "          Name(id='elements', ctx=Load())\n",
      "            Load()\n",
      "        Gt()\n",
      "        Num(n=0)\n",
      "      Expr(value=Call(func=Attribute(value=Name(id='fElements', ctx=Load()), attr='removeAll', ctx=Load()), args=[<_ast.Name object at 0x00000196C686F828>], keywords=[]))\n",
      "        Call(func=Attribute(value=Name(id='fElements', ctx=Load()), attr='removeAll', ctx=Load()), args=[<_ast.Name object at 0x00000196C686F828>], keywords=[])\n",
      "          Attribute(value=Name(id='fElements', ctx=Load()), attr='removeAll', ctx=Load())\n",
      "            Name(id='fElements', ctx=Load())\n",
      "              Load()\n",
      "            Load()\n",
      "          Name(id='elements', ctx=Load())\n",
      "            Load()\n",
      "      If(test=Compare(ops=[<_ast.NotEq object at 0x00000196C28F47B8>], comparators=[<_ast.NameConstant object at 0x00000196CB78C4A8>]), body=[<_ast.Expr object at 0x00000196CCC2B080>], orelse=[])\n",
      "        Compare(ops=[<_ast.NotEq object at 0x00000196C28F47B8>], comparators=[<_ast.NameConstant object at 0x00000196CB78C4A8>])\n",
      "          Name(id='fTable', ctx=Load())\n",
      "            Load()\n",
      "          NotEq()\n",
      "          NameConstant(value=None)\n",
      "        Expr(value=Call(func=Attribute(value=Name(id='fTable', ctx=Load()), attr='remove', ctx=Load()), args=[<_ast.Call object at 0x00000196CCC2B160>], keywords=[]))\n",
      "          Call(func=Attribute(value=Name(id='fTable', ctx=Load()), attr='remove', ctx=Load()), args=[<_ast.Call object at 0x00000196CCC2B160>], keywords=[])\n",
      "            Attribute(value=Name(id='fTable', ctx=Load()), attr='remove', ctx=Load())\n",
      "              Name(id='fTable', ctx=Load())\n",
      "                Load()\n",
      "              Load()\n",
      "            Call(func=Attribute(value=Name(id='elements', ctx=Load()), attr='toArray', ctx=Load()), args=[], keywords=[])\n",
      "              Attribute(value=Name(id='elements', ctx=Load()), attr='toArray', ctx=Load())\n",
      "                Name(id='elements', ctx=Load())\n",
      "                  Load()\n",
      "                Load()\n",
      "      Expr(value=Call(func=Name(id='dialogFieldChange', ctx=Load()), args=[], keywords=[]))\n",
      "        Call(func=Name(id='dialogFieldChange', ctx=Load()), args=[], keywords=[])\n",
      "          Name(id='dialogFieldChange', ctx=Load())\n",
      "            Load()\n"
     ]
    }
   ],
   "source": [
    "cv.printAST(pydata[i])"
   ]
  },
  {
   "cell_type": "code",
   "execution_count": 14,
   "metadata": {},
   "outputs": [
    {
     "data": {
      "text/plain": [
       "2"
      ]
     },
     "execution_count": 14,
     "metadata": {},
     "output_type": "execute_result"
    }
   ],
   "source": [
    "a={1:2,2:3,3:4}\n",
    "a.get(1)"
   ]
  },
  {
   "cell_type": "code",
   "execution_count": 30,
   "metadata": {},
   "outputs": [
    {
     "ename": "AttributeError",
     "evalue": "'dict' object has no attribute 'iteritems'",
     "output_type": "error",
     "traceback": [
      "\u001b[1;31m---------------------------------------------------------------------------\u001b[0m",
      "\u001b[1;31mAttributeError\u001b[0m                            Traceback (most recent call last)",
      "\u001b[1;32m<ipython-input-30-4105baa4a7c2>\u001b[0m in \u001b[0;36m<module>\u001b[1;34m\u001b[0m\n\u001b[1;32m----> 1\u001b[1;33m \u001b[0mit\u001b[0m \u001b[1;33m=\u001b[0m \u001b[0ma\u001b[0m\u001b[1;33m.\u001b[0m\u001b[0miteritems\u001b[0m\u001b[1;33m(\u001b[0m\u001b[1;33m)\u001b[0m\u001b[1;33m\u001b[0m\u001b[0m\n\u001b[0m",
      "\u001b[1;31mAttributeError\u001b[0m: 'dict' object has no attribute 'iteritems'"
     ]
    }
   ],
   "source": [
    "it = a.iteritems()"
   ]
  },
  {
   "cell_type": "code",
   "execution_count": 29,
   "metadata": {},
   "outputs": [
    {
     "ename": "StopIteration",
     "evalue": "",
     "output_type": "error",
     "traceback": [
      "\u001b[1;31m---------------------------------------------------------------------------\u001b[0m",
      "\u001b[1;31mStopIteration\u001b[0m                             Traceback (most recent call last)",
      "\u001b[1;32m<ipython-input-29-bc1ab118995a>\u001b[0m in \u001b[0;36m<module>\u001b[1;34m\u001b[0m\n\u001b[1;32m----> 1\u001b[1;33m \u001b[0mnext\u001b[0m\u001b[1;33m(\u001b[0m\u001b[0mit\u001b[0m\u001b[1;33m)\u001b[0m\u001b[1;33m\u001b[0m\u001b[0m\n\u001b[0m",
      "\u001b[1;31mStopIteration\u001b[0m: "
     ]
    }
   ],
   "source": [
    "next(it)"
   ]
  },
  {
   "cell_type": "code",
   "execution_count": null,
   "metadata": {},
   "outputs": [],
   "source": []
  },
  {
   "cell_type": "code",
   "execution_count": null,
   "metadata": {},
   "outputs": [],
   "source": []
  }
 ],
 "metadata": {
  "kernelspec": {
   "display_name": "Python 3",
   "language": "python",
   "name": "python3"
  },
  "language_info": {
   "codemirror_mode": {
    "name": "ipython",
    "version": 3
   },
   "file_extension": ".py",
   "mimetype": "text/x-python",
   "name": "python",
   "nbconvert_exporter": "python",
   "pygments_lexer": "ipython3",
   "version": "3.6.6"
  }
 },
 "nbformat": 4,
 "nbformat_minor": 2
}
